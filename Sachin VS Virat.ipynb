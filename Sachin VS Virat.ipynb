{
 "cells": [
  {
   "cell_type": "code",
   "execution_count": 32,
   "metadata": {},
   "outputs": [],
   "source": [
    "import warnings\n",
    "warnings.filterwarnings(\"ignore\") # ignores all warnings \n",
    "\n",
    "import pandas as pd\n",
    "import numpy as np\n",
    "import matplotlib.pyplot as plt\n",
    "\n",
    "# to display all rows and columns \n",
    "pd.set_option(\"display.max_rows\",None)#get_option returns current settings\n",
    "# None=> no limits to max number of rows\n",
    "pd.set_option(\"display.max_columns\",None)\n",
    "pd.set_option(\"display.expand_frame_repr\",False)\n",
    "#prevents data frame from wrapping to the next line\n",
    "pd.set_option(\"max_colwidth\",-1)"
   ]
  },
  {
   "cell_type": "code",
   "execution_count": 33,
   "metadata": {},
   "outputs": [],
   "source": [
    "df=pd.read_csv(\"ODI_data.csv\")"
   ]
  },
  {
   "cell_type": "code",
   "execution_count": 34,
   "metadata": {},
   "outputs": [
    {
     "data": {
      "text/html": [
       "<div>\n",
       "<style scoped>\n",
       "    .dataframe tbody tr th:only-of-type {\n",
       "        vertical-align: middle;\n",
       "    }\n",
       "\n",
       "    .dataframe tbody tr th {\n",
       "        vertical-align: top;\n",
       "    }\n",
       "\n",
       "    .dataframe thead th {\n",
       "        text-align: right;\n",
       "    }\n",
       "</style>\n",
       "<table border=\"1\" class=\"dataframe\">\n",
       "  <thead>\n",
       "    <tr style=\"text-align: right;\">\n",
       "      <th></th>\n",
       "      <th>Innings Player</th>\n",
       "      <th>Innings Runs Scored</th>\n",
       "      <th>Innings Runs Scored Num</th>\n",
       "      <th>Innings Minutes Batted</th>\n",
       "      <th>Innings Batted Flag</th>\n",
       "      <th>Innings Not Out Flag</th>\n",
       "      <th>Innings Balls Faced</th>\n",
       "      <th>Innings Boundary Fours</th>\n",
       "      <th>Innings Boundary Sixes</th>\n",
       "      <th>Innings Batting Strike Rate</th>\n",
       "      <th>Innings Number</th>\n",
       "      <th>Opposition</th>\n",
       "      <th>Ground</th>\n",
       "      <th>Innings Date</th>\n",
       "      <th>Country</th>\n",
       "      <th>50's</th>\n",
       "      <th>100's</th>\n",
       "      <th>Innings Runs Scored Buckets</th>\n",
       "      <th>Innings Overs Bowled</th>\n",
       "      <th>Innings Bowled Flag</th>\n",
       "      <th>Innings Maidens Bowled</th>\n",
       "      <th>Innings Runs Conceded</th>\n",
       "      <th>Innings Wickets Taken</th>\n",
       "      <th>4 Wickets</th>\n",
       "      <th>5 Wickets</th>\n",
       "      <th>10 Wickets</th>\n",
       "      <th>Innings Wickets Taken Buckets</th>\n",
       "      <th>Innings Economy Rate</th>\n",
       "    </tr>\n",
       "  </thead>\n",
       "  <tbody>\n",
       "    <tr>\n",
       "      <th>0</th>\n",
       "      <td>E Lewis</td>\n",
       "      <td>65</td>\n",
       "      <td>65</td>\n",
       "      <td>128</td>\n",
       "      <td>1.0</td>\n",
       "      <td>0.0</td>\n",
       "      <td>80</td>\n",
       "      <td>8</td>\n",
       "      <td>1</td>\n",
       "      <td>81.25</td>\n",
       "      <td>2</td>\n",
       "      <td>v India</td>\n",
       "      <td>Port of Spain</td>\n",
       "      <td>11-08-2019</td>\n",
       "      <td>West Indies</td>\n",
       "      <td>1.0</td>\n",
       "      <td>0.0</td>\n",
       "      <td>50-99</td>\n",
       "      <td>NaN</td>\n",
       "      <td>NaN</td>\n",
       "      <td>NaN</td>\n",
       "      <td>NaN</td>\n",
       "      <td>NaN</td>\n",
       "      <td>NaN</td>\n",
       "      <td>NaN</td>\n",
       "      <td>NaN</td>\n",
       "      <td>NaN</td>\n",
       "      <td>NaN</td>\n",
       "    </tr>\n",
       "    <tr>\n",
       "      <th>1</th>\n",
       "      <td>N Pooran</td>\n",
       "      <td>42</td>\n",
       "      <td>42</td>\n",
       "      <td>69</td>\n",
       "      <td>1.0</td>\n",
       "      <td>0.0</td>\n",
       "      <td>52</td>\n",
       "      <td>4</td>\n",
       "      <td>1</td>\n",
       "      <td>80.76</td>\n",
       "      <td>2</td>\n",
       "      <td>v India</td>\n",
       "      <td>Port of Spain</td>\n",
       "      <td>11-08-2019</td>\n",
       "      <td>West Indies</td>\n",
       "      <td>0.0</td>\n",
       "      <td>0.0</td>\n",
       "      <td>0-49</td>\n",
       "      <td>NaN</td>\n",
       "      <td>NaN</td>\n",
       "      <td>NaN</td>\n",
       "      <td>NaN</td>\n",
       "      <td>NaN</td>\n",
       "      <td>NaN</td>\n",
       "      <td>NaN</td>\n",
       "      <td>NaN</td>\n",
       "      <td>NaN</td>\n",
       "      <td>NaN</td>\n",
       "    </tr>\n",
       "    <tr>\n",
       "      <th>2</th>\n",
       "      <td>SO Hetmyer</td>\n",
       "      <td>18</td>\n",
       "      <td>18</td>\n",
       "      <td>31</td>\n",
       "      <td>1.0</td>\n",
       "      <td>0.0</td>\n",
       "      <td>20</td>\n",
       "      <td>2</td>\n",
       "      <td>0</td>\n",
       "      <td>90</td>\n",
       "      <td>2</td>\n",
       "      <td>v India</td>\n",
       "      <td>Port of Spain</td>\n",
       "      <td>11-08-2019</td>\n",
       "      <td>West Indies</td>\n",
       "      <td>0.0</td>\n",
       "      <td>0.0</td>\n",
       "      <td>0-49</td>\n",
       "      <td>NaN</td>\n",
       "      <td>NaN</td>\n",
       "      <td>NaN</td>\n",
       "      <td>NaN</td>\n",
       "      <td>NaN</td>\n",
       "      <td>NaN</td>\n",
       "      <td>NaN</td>\n",
       "      <td>NaN</td>\n",
       "      <td>NaN</td>\n",
       "      <td>NaN</td>\n",
       "    </tr>\n",
       "    <tr>\n",
       "      <th>3</th>\n",
       "      <td>RL Chase</td>\n",
       "      <td>18</td>\n",
       "      <td>18</td>\n",
       "      <td>34</td>\n",
       "      <td>1.0</td>\n",
       "      <td>0.0</td>\n",
       "      <td>23</td>\n",
       "      <td>0</td>\n",
       "      <td>0</td>\n",
       "      <td>78.26</td>\n",
       "      <td>2</td>\n",
       "      <td>v India</td>\n",
       "      <td>Port of Spain</td>\n",
       "      <td>11-08-2019</td>\n",
       "      <td>West Indies</td>\n",
       "      <td>0.0</td>\n",
       "      <td>0.0</td>\n",
       "      <td>0-49</td>\n",
       "      <td>NaN</td>\n",
       "      <td>NaN</td>\n",
       "      <td>NaN</td>\n",
       "      <td>NaN</td>\n",
       "      <td>NaN</td>\n",
       "      <td>NaN</td>\n",
       "      <td>NaN</td>\n",
       "      <td>NaN</td>\n",
       "      <td>NaN</td>\n",
       "      <td>NaN</td>\n",
       "    </tr>\n",
       "    <tr>\n",
       "      <th>4</th>\n",
       "      <td>SS Cottrell</td>\n",
       "      <td>17</td>\n",
       "      <td>17</td>\n",
       "      <td>23</td>\n",
       "      <td>1.0</td>\n",
       "      <td>0.0</td>\n",
       "      <td>18</td>\n",
       "      <td>2</td>\n",
       "      <td>1</td>\n",
       "      <td>94.44</td>\n",
       "      <td>2</td>\n",
       "      <td>v India</td>\n",
       "      <td>Port of Spain</td>\n",
       "      <td>11-08-2019</td>\n",
       "      <td>West Indies</td>\n",
       "      <td>0.0</td>\n",
       "      <td>0.0</td>\n",
       "      <td>0-49</td>\n",
       "      <td>NaN</td>\n",
       "      <td>NaN</td>\n",
       "      <td>NaN</td>\n",
       "      <td>NaN</td>\n",
       "      <td>NaN</td>\n",
       "      <td>NaN</td>\n",
       "      <td>NaN</td>\n",
       "      <td>NaN</td>\n",
       "      <td>NaN</td>\n",
       "      <td>NaN</td>\n",
       "    </tr>\n",
       "    <tr>\n",
       "      <th>5</th>\n",
       "      <td>JO Holder</td>\n",
       "      <td>13*</td>\n",
       "      <td>13</td>\n",
       "      <td>38</td>\n",
       "      <td>1.0</td>\n",
       "      <td>1.0</td>\n",
       "      <td>19</td>\n",
       "      <td>0</td>\n",
       "      <td>0</td>\n",
       "      <td>68.42</td>\n",
       "      <td>2</td>\n",
       "      <td>v India</td>\n",
       "      <td>Port of Spain</td>\n",
       "      <td>11-08-2019</td>\n",
       "      <td>West Indies</td>\n",
       "      <td>0.0</td>\n",
       "      <td>0.0</td>\n",
       "      <td>0-49</td>\n",
       "      <td>NaN</td>\n",
       "      <td>NaN</td>\n",
       "      <td>NaN</td>\n",
       "      <td>NaN</td>\n",
       "      <td>NaN</td>\n",
       "      <td>NaN</td>\n",
       "      <td>NaN</td>\n",
       "      <td>NaN</td>\n",
       "      <td>NaN</td>\n",
       "      <td>NaN</td>\n",
       "    </tr>\n",
       "    <tr>\n",
       "      <th>6</th>\n",
       "      <td>CH Gayle</td>\n",
       "      <td>11</td>\n",
       "      <td>11</td>\n",
       "      <td>49</td>\n",
       "      <td>1.0</td>\n",
       "      <td>0.0</td>\n",
       "      <td>24</td>\n",
       "      <td>1</td>\n",
       "      <td>0</td>\n",
       "      <td>45.83</td>\n",
       "      <td>2</td>\n",
       "      <td>v India</td>\n",
       "      <td>Port of Spain</td>\n",
       "      <td>11-08-2019</td>\n",
       "      <td>West Indies</td>\n",
       "      <td>0.0</td>\n",
       "      <td>0.0</td>\n",
       "      <td>0-49</td>\n",
       "      <td>NaN</td>\n",
       "      <td>NaN</td>\n",
       "      <td>NaN</td>\n",
       "      <td>NaN</td>\n",
       "      <td>NaN</td>\n",
       "      <td>NaN</td>\n",
       "      <td>NaN</td>\n",
       "      <td>NaN</td>\n",
       "      <td>NaN</td>\n",
       "      <td>NaN</td>\n",
       "    </tr>\n",
       "    <tr>\n",
       "      <th>7</th>\n",
       "      <td>SD Hope</td>\n",
       "      <td>5</td>\n",
       "      <td>5</td>\n",
       "      <td>14</td>\n",
       "      <td>1.0</td>\n",
       "      <td>0.0</td>\n",
       "      <td>10</td>\n",
       "      <td>0</td>\n",
       "      <td>0</td>\n",
       "      <td>50</td>\n",
       "      <td>2</td>\n",
       "      <td>v India</td>\n",
       "      <td>Port of Spain</td>\n",
       "      <td>11-08-2019</td>\n",
       "      <td>West Indies</td>\n",
       "      <td>0.0</td>\n",
       "      <td>0.0</td>\n",
       "      <td>0-49</td>\n",
       "      <td>NaN</td>\n",
       "      <td>NaN</td>\n",
       "      <td>NaN</td>\n",
       "      <td>NaN</td>\n",
       "      <td>NaN</td>\n",
       "      <td>NaN</td>\n",
       "      <td>NaN</td>\n",
       "      <td>NaN</td>\n",
       "      <td>NaN</td>\n",
       "      <td>NaN</td>\n",
       "    </tr>\n",
       "    <tr>\n",
       "      <th>8</th>\n",
       "      <td>CR Brathwaite</td>\n",
       "      <td>0</td>\n",
       "      <td>0</td>\n",
       "      <td>5</td>\n",
       "      <td>1.0</td>\n",
       "      <td>0.0</td>\n",
       "      <td>3</td>\n",
       "      <td>0</td>\n",
       "      <td>0</td>\n",
       "      <td>0</td>\n",
       "      <td>2</td>\n",
       "      <td>v India</td>\n",
       "      <td>Port of Spain</td>\n",
       "      <td>11-08-2019</td>\n",
       "      <td>West Indies</td>\n",
       "      <td>0.0</td>\n",
       "      <td>0.0</td>\n",
       "      <td>0-49</td>\n",
       "      <td>NaN</td>\n",
       "      <td>NaN</td>\n",
       "      <td>NaN</td>\n",
       "      <td>NaN</td>\n",
       "      <td>NaN</td>\n",
       "      <td>NaN</td>\n",
       "      <td>NaN</td>\n",
       "      <td>NaN</td>\n",
       "      <td>NaN</td>\n",
       "      <td>NaN</td>\n",
       "    </tr>\n",
       "    <tr>\n",
       "      <th>9</th>\n",
       "      <td>KAJ Roach</td>\n",
       "      <td>0</td>\n",
       "      <td>0</td>\n",
       "      <td>5</td>\n",
       "      <td>1.0</td>\n",
       "      <td>0.0</td>\n",
       "      <td>3</td>\n",
       "      <td>0</td>\n",
       "      <td>0</td>\n",
       "      <td>0</td>\n",
       "      <td>2</td>\n",
       "      <td>v India</td>\n",
       "      <td>Port of Spain</td>\n",
       "      <td>11-08-2019</td>\n",
       "      <td>West Indies</td>\n",
       "      <td>0.0</td>\n",
       "      <td>0.0</td>\n",
       "      <td>0-49</td>\n",
       "      <td>NaN</td>\n",
       "      <td>NaN</td>\n",
       "      <td>NaN</td>\n",
       "      <td>NaN</td>\n",
       "      <td>NaN</td>\n",
       "      <td>NaN</td>\n",
       "      <td>NaN</td>\n",
       "      <td>NaN</td>\n",
       "      <td>NaN</td>\n",
       "      <td>NaN</td>\n",
       "    </tr>\n",
       "  </tbody>\n",
       "</table>\n",
       "</div>"
      ],
      "text/plain": [
       "  Innings Player Innings Runs Scored Innings Runs Scored Num Innings Minutes Batted  Innings Batted Flag  Innings Not Out Flag Innings Balls Faced Innings Boundary Fours Innings Boundary Sixes Innings Batting Strike Rate Innings Number Opposition         Ground Innings Date      Country  50's  100's Innings Runs Scored Buckets Innings Overs Bowled  Innings Bowled Flag Innings Maidens Bowled Innings Runs Conceded Innings Wickets Taken  4 Wickets  5 Wickets  10 Wickets Innings Wickets Taken Buckets Innings Economy Rate\n",
       "0  E Lewis        65                  65                      128                    1.0                  0.0                   80                  8                      1                      81.25                       2              v India    Port of Spain  11-08-2019   West Indies  1.0   0.0    50-99                       NaN                 NaN                   NaN                    NaN                   NaN                  NaN        NaN        NaN          NaN                           NaN                \n",
       "1  N Pooran       42                  42                      69                     1.0                  0.0                   52                  4                      1                      80.76                       2              v India    Port of Spain  11-08-2019   West Indies  0.0   0.0    0-49                        NaN                 NaN                   NaN                    NaN                   NaN                  NaN        NaN        NaN          NaN                           NaN                \n",
       "2  SO Hetmyer     18                  18                      31                     1.0                  0.0                   20                  2                      0                      90                          2              v India    Port of Spain  11-08-2019   West Indies  0.0   0.0    0-49                        NaN                 NaN                   NaN                    NaN                   NaN                  NaN        NaN        NaN          NaN                           NaN                \n",
       "3  RL Chase       18                  18                      34                     1.0                  0.0                   23                  0                      0                      78.26                       2              v India    Port of Spain  11-08-2019   West Indies  0.0   0.0    0-49                        NaN                 NaN                   NaN                    NaN                   NaN                  NaN        NaN        NaN          NaN                           NaN                \n",
       "4  SS Cottrell    17                  17                      23                     1.0                  0.0                   18                  2                      1                      94.44                       2              v India    Port of Spain  11-08-2019   West Indies  0.0   0.0    0-49                        NaN                 NaN                   NaN                    NaN                   NaN                  NaN        NaN        NaN          NaN                           NaN                \n",
       "5  JO Holder      13*                 13                      38                     1.0                  1.0                   19                  0                      0                      68.42                       2              v India    Port of Spain  11-08-2019   West Indies  0.0   0.0    0-49                        NaN                 NaN                   NaN                    NaN                   NaN                  NaN        NaN        NaN          NaN                           NaN                \n",
       "6  CH Gayle       11                  11                      49                     1.0                  0.0                   24                  1                      0                      45.83                       2              v India    Port of Spain  11-08-2019   West Indies  0.0   0.0    0-49                        NaN                 NaN                   NaN                    NaN                   NaN                  NaN        NaN        NaN          NaN                           NaN                \n",
       "7  SD Hope        5                   5                       14                     1.0                  0.0                   10                  0                      0                      50                          2              v India    Port of Spain  11-08-2019   West Indies  0.0   0.0    0-49                        NaN                 NaN                   NaN                    NaN                   NaN                  NaN        NaN        NaN          NaN                           NaN                \n",
       "8  CR Brathwaite  0                   0                       5                      1.0                  0.0                   3                   0                      0                      0                           2              v India    Port of Spain  11-08-2019   West Indies  0.0   0.0    0-49                        NaN                 NaN                   NaN                    NaN                   NaN                  NaN        NaN        NaN          NaN                           NaN                \n",
       "9  KAJ Roach      0                   0                       5                      1.0                  0.0                   3                   0                      0                      0                           2              v India    Port of Spain  11-08-2019   West Indies  0.0   0.0    0-49                        NaN                 NaN                   NaN                    NaN                   NaN                  NaN        NaN        NaN          NaN                           NaN                "
      ]
     },
     "execution_count": 34,
     "metadata": {},
     "output_type": "execute_result"
    }
   ],
   "source": [
    "df.head(10)"
   ]
  },
  {
   "cell_type": "code",
   "execution_count": 35,
   "metadata": {},
   "outputs": [
    {
     "data": {
      "text/plain": [
       "(171968, 28)"
      ]
     },
     "execution_count": 35,
     "metadata": {},
     "output_type": "execute_result"
    }
   ],
   "source": [
    "df.shape"
   ]
  },
  {
   "cell_type": "code",
   "execution_count": 36,
   "metadata": {},
   "outputs": [
    {
     "data": {
      "text/plain": [
       "'\\nRuns per innings\\nSR\\n100s\\n50s\\nTeam contribution = player runs/team runs\\n'"
      ]
     },
     "execution_count": 36,
     "metadata": {},
     "output_type": "execute_result"
    }
   ],
   "source": [
    "\"\"\"\n",
    "Runs per innings\n",
    "SR\n",
    "100s\n",
    "50s\n",
    "Team contribution = player runs/team runs\n",
    "\"\"\""
   ]
  },
  {
   "cell_type": "code",
   "execution_count": 37,
   "metadata": {
    "scrolled": false
   },
   "outputs": [
    {
     "data": {
      "text/plain": [
       "array(['65', '42', '18', '17', '13', '11', '5', '0', '120', '71', '20',\n",
       "       '16', '3', '2', '1', '-', nan, '40', '6', '4', '87', '54', '46',\n",
       "       '30', '12', '69', '39', '14', '10', '9', '8', '7', '82', '52',\n",
       "       '41', '15', '98', '43', '19', '111', '48', '36', '25', '67', '60',\n",
       "       '84', '59', '55', '47', '85', '49', '45', '34', '29', '22', '74',\n",
       "       '28', '77', '50', '32', '23', '35', '122', '100', '95', '103',\n",
       "       '113', '53', '96', '27', '64', '58', '33', '31', '73', '56', '86',\n",
       "       '62', '106', '24', '57', '104', '26', '66', '51', '118', '105',\n",
       "       '101', '21', '79', '44', '102', '88', '80', '72', '97', '68', '89',\n",
       "       '38', '83', '63', '148', '166', '90', '76', '37', '70', '124',\n",
       "       '94', '140', '153', '107', '117', '121', '92', '78', '75', '114',\n",
       "       '115', '130', '128', '151', '110', '138', '135', '109', '61',\n",
       "       '179', '170', '112', '116', '91', '143', '93', '123', '145', '81',\n",
       "       '150', '162', '108', '131', '133', '137', '146', '139', '125',\n",
       "       '129', '157', '152', '144', '99', '127', '210', '147', '126',\n",
       "       '181', '160', '180', '208', '176', '168', '141', '132', '119',\n",
       "       '154', '185', '134', '156', '164', '173', '178', '171', '149',\n",
       "       '237', '159', '161', '215', '264', '136', '169', '209', '174',\n",
       "       '189', '183', '163', '219', '158', '175', '177', '200', '194',\n",
       "       '142', '172', '186', '188', '167'], dtype=object)"
      ]
     },
     "execution_count": 37,
     "metadata": {},
     "output_type": "execute_result"
    }
   ],
   "source": [
    "#In order to check if data in a column requires modification,\n",
    "# we use .unique() func\n",
    "df[\"Innings Runs Scored Num\"].unique()\n",
    "# nan => not a number"
   ]
  },
  {
   "cell_type": "code",
   "execution_count": 38,
   "metadata": {},
   "outputs": [
    {
     "data": {
      "text/plain": [
       "array(['65', '42', '18', '17', '13', '11', '5', '0', '120', '71', '20',\n",
       "       '16', '3', '2', '1', nan, '40', '6', '4', '87', '54', '46', '30',\n",
       "       '12', '69', '39', '14', '10', '9', '8', '7', '82', '52', '41',\n",
       "       '15', '98', '43', '19', '111', '48', '36', '25', '67', '60', '84',\n",
       "       '59', '55', '47', '85', '49', '45', '34', '29', '22', '74', '28',\n",
       "       '77', '50', '32', '23', '35', '122', '100', '95', '103', '113',\n",
       "       '53', '96', '27', '64', '58', '33', '31', '73', '56', '86', '62',\n",
       "       '106', '24', '57', '104', '26', '66', '51', '118', '105', '101',\n",
       "       '21', '79', '44', '102', '88', '80', '72', '97', '68', '89', '38',\n",
       "       '83', '63', '148', '166', '90', '76', '37', '70', '124', '94',\n",
       "       '140', '153', '107', '117', '121', '92', '78', '75', '114', '115',\n",
       "       '130', '128', '151', '110', '138', '135', '109', '61', '179',\n",
       "       '170', '112', '116', '91', '143', '93', '123', '145', '81', '150',\n",
       "       '162', '108', '131', '133', '137', '146', '139', '125', '129',\n",
       "       '157', '152', '144', '99', '127', '210', '147', '126', '181',\n",
       "       '160', '180', '208', '176', '168', '141', '132', '119', '154',\n",
       "       '185', '134', '156', '164', '173', '178', '171', '149', '237',\n",
       "       '159', '161', '215', '264', '136', '169', '209', '174', '189',\n",
       "       '183', '163', '219', '158', '175', '177', '200', '194', '142',\n",
       "       '172', '186', '188', '167'], dtype=object)"
      ]
     },
     "execution_count": 38,
     "metadata": {},
     "output_type": "execute_result"
    }
   ],
   "source": [
    "df=df[df[\"Innings Runs Scored Num\"]!=\"-\"]\n",
    "# removing the rows with \"-\"\n",
    "df[\"Innings Runs Scored Num\"].unique()\n"
   ]
  },
  {
   "cell_type": "code",
   "execution_count": 39,
   "metadata": {},
   "outputs": [
    {
     "data": {
      "text/plain": [
       "array(['65', '42', '18', '17', '13', '11', '5', '0', '120', '71', '20',\n",
       "       '16', '3', '2', '1', '40', '6', '4', '87', '54', '46', '30', '12',\n",
       "       '69', '39', '14', '10', '9', '8', '7', '82', '52', '41', '15',\n",
       "       '98', '43', '19', '111', '48', '36', '25', '67', '60', '84', '59',\n",
       "       '55', '47', '85', '49', '45', '34', '29', '22', '74', '28', '77',\n",
       "       '50', '32', '23', '35', '122', '100', '95', '103', '113', '53',\n",
       "       '96', '27', '64', '58', '33', '31', '73', '56', '86', '62', '106',\n",
       "       '24', '57', '104', '26', '66', '51', '118', '105', '101', '21',\n",
       "       '79', '44', '102', '88', '80', '72', '97', '68', '89', '38', '83',\n",
       "       '63', '148', '166', '90', '76', '37', '70', '124', '94', '140',\n",
       "       '153', '107', '117', '121', '92', '78', '75', '114', '115', '130',\n",
       "       '128', '151', '110', '138', '135', '109', '61', '179', '170',\n",
       "       '112', '116', '91', '143', '93', '123', '145', '81', '150', '162',\n",
       "       '108', '131', '133', '137', '146', '139', '125', '129', '157',\n",
       "       '152', '144', '99', '127', '210', '147', '126', '181', '160',\n",
       "       '180', '208', '176', '168', '141', '132', '119', '154', '185',\n",
       "       '134', '156', '164', '173', '178', '171', '149', '237', '159',\n",
       "       '161', '215', '264', '136', '169', '209', '174', '189', '183',\n",
       "       '163', '219', '158', '175', '177', '200', '194', '142', '172',\n",
       "       '186', '188', '167'], dtype=object)"
      ]
     },
     "execution_count": 39,
     "metadata": {},
     "output_type": "execute_result"
    }
   ],
   "source": [
    "df=df.dropna(subset=[\"Innings Runs Scored Num\"])\n",
    "# not including the subset attribute results in all of them, \n",
    "# ie in the entire table getting dropped/removed\n",
    "df[\"Innings Runs Scored Num\"].unique()"
   ]
  },
  {
   "cell_type": "code",
   "execution_count": 40,
   "metadata": {},
   "outputs": [],
   "source": [
    "#To utilise the innings date column, we must first convert it\n",
    "# to the datetime format(assuming data is present in string)\n",
    "df[\"Innings Date\"]=pd.to_datetime(df[\"Innings Date\"])"
   ]
  },
  {
   "cell_type": "code",
   "execution_count": 41,
   "metadata": {
    "scrolled": true
   },
   "outputs": [
    {
     "data": {
      "text/html": [
       "<div>\n",
       "<style scoped>\n",
       "    .dataframe tbody tr th:only-of-type {\n",
       "        vertical-align: middle;\n",
       "    }\n",
       "\n",
       "    .dataframe tbody tr th {\n",
       "        vertical-align: top;\n",
       "    }\n",
       "\n",
       "    .dataframe thead th {\n",
       "        text-align: right;\n",
       "    }\n",
       "</style>\n",
       "<table border=\"1\" class=\"dataframe\">\n",
       "  <thead>\n",
       "    <tr style=\"text-align: right;\">\n",
       "      <th></th>\n",
       "      <th>Innings Player</th>\n",
       "      <th>Innings Runs Scored</th>\n",
       "      <th>Innings Runs Scored Num</th>\n",
       "      <th>Innings Minutes Batted</th>\n",
       "      <th>Innings Batted Flag</th>\n",
       "      <th>Innings Not Out Flag</th>\n",
       "      <th>Innings Balls Faced</th>\n",
       "      <th>Innings Boundary Fours</th>\n",
       "      <th>Innings Boundary Sixes</th>\n",
       "      <th>Innings Batting Strike Rate</th>\n",
       "      <th>Innings Number</th>\n",
       "      <th>Opposition</th>\n",
       "      <th>Ground</th>\n",
       "      <th>Innings Date</th>\n",
       "      <th>Country</th>\n",
       "      <th>50's</th>\n",
       "      <th>100's</th>\n",
       "      <th>Innings Runs Scored Buckets</th>\n",
       "      <th>Innings Overs Bowled</th>\n",
       "      <th>Innings Bowled Flag</th>\n",
       "      <th>Innings Maidens Bowled</th>\n",
       "      <th>Innings Runs Conceded</th>\n",
       "      <th>Innings Wickets Taken</th>\n",
       "      <th>4 Wickets</th>\n",
       "      <th>5 Wickets</th>\n",
       "      <th>10 Wickets</th>\n",
       "      <th>Innings Wickets Taken Buckets</th>\n",
       "      <th>Innings Economy Rate</th>\n",
       "      <th>Year</th>\n",
       "    </tr>\n",
       "  </thead>\n",
       "  <tbody>\n",
       "    <tr>\n",
       "      <th>0</th>\n",
       "      <td>E Lewis</td>\n",
       "      <td>65</td>\n",
       "      <td>65</td>\n",
       "      <td>128</td>\n",
       "      <td>1.0</td>\n",
       "      <td>0.0</td>\n",
       "      <td>80</td>\n",
       "      <td>8</td>\n",
       "      <td>1</td>\n",
       "      <td>81.25</td>\n",
       "      <td>2</td>\n",
       "      <td>v India</td>\n",
       "      <td>Port of Spain</td>\n",
       "      <td>2019-11-08</td>\n",
       "      <td>West Indies</td>\n",
       "      <td>1.0</td>\n",
       "      <td>0.0</td>\n",
       "      <td>50-99</td>\n",
       "      <td>NaN</td>\n",
       "      <td>NaN</td>\n",
       "      <td>NaN</td>\n",
       "      <td>NaN</td>\n",
       "      <td>NaN</td>\n",
       "      <td>NaN</td>\n",
       "      <td>NaN</td>\n",
       "      <td>NaN</td>\n",
       "      <td>NaN</td>\n",
       "      <td>NaN</td>\n",
       "      <td>2019</td>\n",
       "    </tr>\n",
       "  </tbody>\n",
       "</table>\n",
       "</div>"
      ],
      "text/plain": [
       "  Innings Player Innings Runs Scored Innings Runs Scored Num Innings Minutes Batted  Innings Batted Flag  Innings Not Out Flag Innings Balls Faced Innings Boundary Fours Innings Boundary Sixes Innings Batting Strike Rate Innings Number Opposition         Ground Innings Date      Country  50's  100's Innings Runs Scored Buckets Innings Overs Bowled  Innings Bowled Flag Innings Maidens Bowled Innings Runs Conceded Innings Wickets Taken  4 Wickets  5 Wickets  10 Wickets Innings Wickets Taken Buckets Innings Economy Rate  Year\n",
       "0  E Lewis        65                  65                      128                    1.0                  0.0                   80                  8                      1                      81.25                       2              v India    Port of Spain 2019-11-08    West Indies  1.0   0.0    50-99                       NaN                 NaN                   NaN                    NaN                   NaN                  NaN        NaN        NaN          NaN                           NaN                  2019"
      ]
     },
     "execution_count": 41,
     "metadata": {},
     "output_type": "execute_result"
    }
   ],
   "source": [
    "df[\"Year\"]=df[\"Innings Date\"].dt.year\n",
    "# the year column gets created if not present\n",
    "# dt=> datetime object\n",
    "df.head(1)"
   ]
  },
  {
   "cell_type": "code",
   "execution_count": 42,
   "metadata": {},
   "outputs": [
    {
     "data": {
      "text/plain": [
       "\"\\nWhich timeline to choose for comparison? \\nSachin's 1st 100 => 1994\\nVirat's 1st 100 => 2009\\nConsidering 11 years\\nST => 1994-2004\\nVK => 2009-2019\\n\""
      ]
     },
     "execution_count": 42,
     "metadata": {},
     "output_type": "execute_result"
    }
   ],
   "source": [
    "\"\"\"\n",
    "Which timeline to choose for comparison? \n",
    "Sachin's 1st 100 => 1994\n",
    "Virat's 1st 100 => 2009\n",
    "Considering 11 years\n",
    "ST => 1994-2004\n",
    "VK => 2009-2019\n",
    "\"\"\"\n"
   ]
  },
  {
   "cell_type": "code",
   "execution_count": 43,
   "metadata": {},
   "outputs": [],
   "source": [
    "# ST_df= df[(df[\"Year\"]>=1994) & (df[\"Year\"]<=2004)]\n",
    "# VK_df= df[(df[\"Year\"]>=2009) & (df[\"Year\"]<=2019)]\n",
    "# # collecting generational data"
   ]
  },
  {
   "cell_type": "code",
   "execution_count": 44,
   "metadata": {},
   "outputs": [],
   "source": [
    "# ST_df.head(2)"
   ]
  },
  {
   "cell_type": "code",
   "execution_count": 45,
   "metadata": {
    "scrolled": false
   },
   "outputs": [
    {
     "data": {
      "text/plain": [
       "Innings Player                   object        \n",
       "Innings Runs Scored              object        \n",
       "Innings Runs Scored Num          object        \n",
       "Innings Minutes Batted           object        \n",
       "Innings Batted Flag              float64       \n",
       "Innings Not Out Flag             float64       \n",
       "Innings Balls Faced              object        \n",
       "Innings Boundary Fours           object        \n",
       "Innings Boundary Sixes           object        \n",
       "Innings Batting Strike Rate      object        \n",
       "Innings Number                   object        \n",
       "Opposition                       object        \n",
       "Ground                           object        \n",
       "Innings Date                     datetime64[ns]\n",
       "Country                          object        \n",
       "50's                             float64       \n",
       "100's                            float64       \n",
       "Innings Runs Scored Buckets      object        \n",
       "Innings Overs Bowled             object        \n",
       "Innings Bowled Flag              float64       \n",
       "Innings Maidens Bowled           object        \n",
       "Innings Runs Conceded            object        \n",
       "Innings Wickets Taken            object        \n",
       "4 Wickets                        float64       \n",
       "5 Wickets                        float64       \n",
       "10 Wickets                       float64       \n",
       "Innings Wickets Taken Buckets    object        \n",
       "Innings Economy Rate             object        \n",
       "Year                             int64         \n",
       "dtype: object"
      ]
     },
     "execution_count": 45,
     "metadata": {},
     "output_type": "execute_result"
    }
   ],
   "source": [
    "df.dtypes"
   ]
  },
  {
   "cell_type": "code",
   "execution_count": 46,
   "metadata": {},
   "outputs": [],
   "source": [
    "#.astype() => used to change datatypes of pandas objects\n",
    "df[\"Innings Runs Scored Num\"]=df[\"Innings Runs Scored Num\"].astype(\"int\")"
   ]
  },
  {
   "cell_type": "code",
   "execution_count": 47,
   "metadata": {},
   "outputs": [],
   "source": [
    "df[\"Innings Balls Faced\"]=df[\"Innings Balls Faced\"].astype(\"int\")"
   ]
  },
  {
   "cell_type": "code",
   "execution_count": 48,
   "metadata": {},
   "outputs": [],
   "source": [
    "df[\"Innings Not Out Flag\"]=df[\"Innings Not Out Flag\"].astype(\"int\")\n",
    "# not out flag => either a 0 or 1"
   ]
  },
  {
   "cell_type": "code",
   "execution_count": 49,
   "metadata": {},
   "outputs": [],
   "source": [
    "# ST_df.dtypes"
   ]
  },
  {
   "cell_type": "code",
   "execution_count": 50,
   "metadata": {},
   "outputs": [],
   "source": [
    "ST_df= df[(df[\"Year\"]>=1994) & (df[\"Year\"]<=2004)]\n",
    "VK_df= df[(df[\"Year\"]>=2009) & (df[\"Year\"]<=2019)]\n",
    "# collecting generational data"
   ]
  },
  {
   "cell_type": "code",
   "execution_count": 51,
   "metadata": {},
   "outputs": [],
   "source": [
    "# ST_df.to_csv(\"sachin_data.csv\")\n",
    "# used to convert the data frame to a csv file"
   ]
  },
  {
   "cell_type": "code",
   "execution_count": 52,
   "metadata": {},
   "outputs": [],
   "source": [
    "sdf=ST_df[ST_df['Innings Player']==\"SR Tendulkar\"]\n",
    "vdf=VK_df[VK_df['Innings Player']==\"V Kohli\"]\n",
    "# getting player exclusive data"
   ]
  },
  {
   "cell_type": "markdown",
   "metadata": {},
   "source": [
    "## Comparison based on selected parameters"
   ]
  },
  {
   "cell_type": "code",
   "execution_count": 53,
   "metadata": {},
   "outputs": [
    {
     "name": "stdout",
     "output_type": "stream",
     "text": [
      "Sachin's RPI : 43.608856088560884\n",
      "Virat's RPI : 50.20982142857143\n"
     ]
    }
   ],
   "source": [
    "# calculating Runs Per Innings (RPI)\n",
    "rpiST=sum(sdf[\"Innings Runs Scored Num\"])/len(sdf)\n",
    "rpiVK=sum(vdf[\"Innings Runs Scored Num\"])/len(vdf)\n",
    "print(\"Sachin's RPI :\",rpiST)\n",
    "print(\"Virat's RPI :\",rpiVK)"
   ]
  },
  {
   "cell_type": "code",
   "execution_count": 54,
   "metadata": {},
   "outputs": [
    {
     "name": "stdout",
     "output_type": "stream",
     "text": [
      "Sachin's SR : 88.21377920429947\n",
      "Virat's SR : 93.56126778138258\n"
     ]
    }
   ],
   "source": [
    "# calculating strike rate\n",
    "srST=sum(sdf[\"Innings Runs Scored Num\"])/sum(sdf[\"Innings Balls Faced\"])\n",
    "srVK=sum(vdf[\"Innings Runs Scored Num\"])/sum(vdf[\"Innings Balls Faced\"])\n",
    "print(\"Sachin's SR :\",srST*100)\n",
    "print(\"Virat's SR :\",srVK*100)"
   ]
  },
  {
   "cell_type": "code",
   "execution_count": 55,
   "metadata": {},
   "outputs": [
    {
     "name": "stdout",
     "output_type": "stream",
     "text": [
      "Sachin\n",
      "100's: 37.0\n",
      "50's: 57.0 \n",
      "\n",
      "Virat\n",
      "100's: 42.0\n",
      "50's: 53.0\n"
     ]
    }
   ],
   "source": [
    "# 50's and 100's\n",
    "s100=sum(sdf[\"100's\"])\n",
    "s50=sum(sdf[\"50's\"])\n",
    "v100=sum(vdf[\"100's\"])\n",
    "v50=sum(vdf[\"50's\"])\n",
    "print(\"Sachin\\n100's:\",s100)\n",
    "print(\"50's:\",s50,\"\\n\")\n",
    "print(\"Virat\\n100's:\",v100)\n",
    "print(\"50's:\",v50)\n"
   ]
  },
  {
   "cell_type": "code",
   "execution_count": 56,
   "metadata": {},
   "outputs": [
    {
     "name": "stdout",
     "output_type": "stream",
     "text": [
      "Sachin's score contribution : 16.951875493078962\n",
      "Virat's score contribution : 17.610033350556627\n"
     ]
    }
   ],
   "source": [
    "# Calculating team contribution\n",
    "# Sachin\n",
    "tcs=sum(sdf[\"Innings Runs Scored Num\"])/sum(ST_df[ST_df[\"Country\"]==\"India\"][\"Innings Runs Scored Num\"])\n",
    "print(\"Sachin's score contribution :\",tcs*100)\n",
    "#Virat\n",
    "tcv=sum(vdf[\"Innings Runs Scored Num\"])/sum(VK_df[VK_df[\"Country\"]==\"India\"][\"Innings Runs Scored Num\"])\n",
    "print(\"Virat's score contribution :\",tcv*100)\n"
   ]
  },
  {
   "cell_type": "markdown",
   "metadata": {},
   "source": [
    "## Visualizations"
   ]
  },
  {
   "cell_type": "code",
   "execution_count": 57,
   "metadata": {},
   "outputs": [
    {
     "data": {
      "image/png": "[encoded data removed]",
      "text/plain": [
       "<Figure size 432x288 with 1 Axes>"
      ]
     },
     "metadata": {
      "needs_background": "light"
     },
     "output_type": "display_data"
    }
   ],
   "source": [
    "# Top 10 batsmen\n",
    "ST_df.groupby(ST_df[\"Innings Player\"])[\"Innings Runs Scored Num\"].sum().sort_values(ascending=False).head(10).plot(kind=\"barh\")\n",
    "# sort_values() => used to sort dataframes(columns)\n",
    "plt.show()\n"
   ]
  },
  {
   "cell_type": "code",
   "execution_count": 58,
   "metadata": {},
   "outputs": [
    {
     "data": {
      "image/png": "[encoded data removed]",
      "text/plain": [
       "<Figure size 432x288 with 1 Axes>"
      ]
     },
     "metadata": {
      "needs_background": "light"
     },
     "output_type": "display_data"
    }
   ],
   "source": [
    "VK_df.groupby(VK_df[\"Innings Player\"])[\"Innings Runs Scored Num\"].sum().sort_values(ascending=False).head(10).plot(kind=\"barh\")\n",
    "plt.show()"
   ]
  },
  {
   "cell_type": "code",
   "execution_count": 59,
   "metadata": {},
   "outputs": [
    {
     "data": {
      "image/png": "[encoded data removed]",
      "text/plain": [
       "<Figure size 432x288 with 1 Axes>"
      ]
     },
     "metadata": {
      "needs_background": "light"
     },
     "output_type": "display_data"
    }
   ],
   "source": [
    "# Performance over the years-Sachin\n",
    "sdf.groupby(sdf[\"Year\"])[\"Innings Runs Scored Num\"].sum().plot(kind=\"bar\")\n",
    "plt.show()"
   ]
  },
  {
   "cell_type": "code",
   "execution_count": 60,
   "metadata": {},
   "outputs": [
    {
     "data": {
      "text/plain": [
       "[]"
      ]
     },
     "execution_count": 60,
     "metadata": {},
     "output_type": "execute_result"
    },
    {
     "data": {
      "image/png": "[encoded data removed]",
      "text/plain": [
       "<Figure size 432x288 with 1 Axes>"
      ]
     },
     "metadata": {
      "needs_background": "light"
     },
     "output_type": "display_data"
    }
   ],
   "source": [
    "# Performance over the years- Kohli\n",
    "vdf.groupby(vdf[\"Year\"])[\"Innings Runs Scored Num\"].sum().plot(kind=\"bar\")\n",
    "plt.plot()"
   ]
  },
  {
   "cell_type": "markdown",
   "metadata": {},
   "source": [
    "## Normalization"
   ]
  },
  {
   "cell_type": "code",
   "execution_count": 70,
   "metadata": {},
   "outputs": [
    {
     "name": "stdout",
     "output_type": "stream",
     "text": [
      "Average RPI at the time: 22.43512946754194\n",
      "Sachin's RPI : 43.608856088560884\n",
      "Ratio: 1.9437755485945407\n"
     ]
    }
   ],
   "source": [
    "# Comparing RPI to average RPI of that time period\n",
    "# Sachin\n",
    "nons=ST_df[ST_df[\"Innings Player\"]!=\"SR Tendulkar\"]\n",
    "nonsRPI=nons[\"Innings Runs Scored Num\"].sum()/len(nons)\n",
    "print(\"Average RPI at the time:\",nonsRPI)\n",
    "print(\"Sachin's RPI :\",rpiST)\n",
    "print(\"Ratio:\",rpiST/nonsRPI)\n"
   ]
  },
  {
   "cell_type": "code",
   "execution_count": 69,
   "metadata": {},
   "outputs": [
    {
     "name": "stdout",
     "output_type": "stream",
     "text": [
      "Average RPI at the time: 24.737756786500366\n",
      "Kohli's RPI : 50.20982142857143\n",
      "Ratio: 2.029683688052565\n"
     ]
    }
   ],
   "source": [
    "# Comparing RPI to RPI excluding Kohli in that time period\n",
    "# Virat\n",
    "nonv=VK_df[VK_df[\"Innings Player\"]!=\"V Kohli\"]\n",
    "nonvRPI=nonv[\"Innings Runs Scored Num\"].sum()/len(nonv)\n",
    "print(\"Average RPI at the time:\",nonvRPI)\n",
    "print(\"Kohli's RPI :\",rpiVK)\n",
    "print(\"Ratio:\",rpiVK/nonvRPI)"
   ]
  },
  {
   "cell_type": "code",
   "execution_count": 77,
   "metadata": {},
   "outputs": [
    {
     "name": "stdout",
     "output_type": "stream",
     "text": [
      "Sachin's SR : 88.21377920429947\n",
      "Average SR of the rest at the time : 72.33808936558636\n",
      "Ratio: 1.2194651528391862\n"
     ]
    }
   ],
   "source": [
    "# Strike rate \n",
    "# Sachin\n",
    "print(\"Sachin's SR :\",srST*100)\n",
    "nosrst=ST_df[ST_df[\"Innings Player\"]!=\"SR Tendulkar\"][\"Innings Runs Scored Num\"].sum()/(ST_df[ST_df[\"Innings Player\"]!=\"SR Tendulkar\"][\"Innings Balls Faced\"].sum())\n",
    "print(\"Average SR of the rest at the time :\",nosrst*100)\n",
    "print(\"Ratio:\",srST/nosrst)\n",
    "\n"
   ]
  },
  {
   "cell_type": "code",
   "execution_count": 78,
   "metadata": {},
   "outputs": [
    {
     "name": "stdout",
     "output_type": "stream",
     "text": [
      "Virat's SR : 93.56126778138258\n",
      "Average SR of the rest at the time : 83.42743413330611\n",
      "Ratio: 1.121468839996732\n"
     ]
    }
   ],
   "source": [
    "# Strike rate \n",
    "# Virat\n",
    "print(\"Virat's SR :\",srVK*100)\n",
    "nosrvk=VK_df[VK_df[\"Innings Player\"]!=\"V Kohli\"][\"Innings Runs Scored Num\"].sum()/(VK_df[VK_df[\"Innings Player\"]!=\"V Kohli\"][\"Innings Balls Faced\"].sum())\n",
    "print(\"Average SR of the rest at the time :\",nosrvk*100)\n",
    "print(\"Ratio:\",srVK/nosrvk)\n"
   ]
  },
  {
   "cell_type": "code",
   "execution_count": 79,
   "metadata": {},
   "outputs": [
    {
     "name": "stdout",
     "output_type": "stream",
     "text": [
      "Sachin's team contribution(in terms of runs scored): 16.951875493078962\n"
     ]
    }
   ],
   "source": [
    "# Contribution %\n",
    "# Sachin\n",
    "gs=sdf[\"Innings Runs Scored Num\"].sum()/ST_df[ST_df[\"Country\"]==\"India\"][\"Innings Runs Scored Num\"].sum()\n",
    "print(\"Sachin's team contribution(in terms of runs scored):\",gs*100)"
   ]
  },
  {
   "cell_type": "code",
   "execution_count": 80,
   "metadata": {},
   "outputs": [
    {
     "name": "stdout",
     "output_type": "stream",
     "text": [
      "Virat's team contribution(in terms of runs scored): 17.610033350556627\n"
     ]
    }
   ],
   "source": [
    "# Contribution %\n",
    "# Virat\n",
    "gv=vdf[\"Innings Runs Scored Num\"].sum()/VK_df[VK_df[\"Country\"]==\"India\"][\"Innings Runs Scored Num\"].sum()\n",
    "print(\"Virat's team contribution(in terms of runs scored):\",gv*100)"
   ]
  },
  {
   "cell_type": "code",
   "execution_count": null,
   "metadata": {},
   "outputs": [],
   "source": []
  }
 ],
 "metadata": {
  "kernelspec": {
   "display_name": "Python 3",
   "language": "python",
   "name": "python3"
  },
  "language_info": {
   "codemirror_mode": {
    "name": "ipython",
    "version": 3
   },
   "file_extension": ".py",
   "mimetype": "text/x-python",
   "name": "python",
   "nbconvert_exporter": "python",
   "pygments_lexer": "ipython3",
   "version": "3.8.5"
  }
 },
 "nbformat": 4,
 "nbformat_minor": 4
}
